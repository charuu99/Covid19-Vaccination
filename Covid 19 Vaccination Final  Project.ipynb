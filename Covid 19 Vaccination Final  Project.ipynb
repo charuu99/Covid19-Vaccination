{
 "cells": [
  {
   "cell_type": "markdown",
   "id": "65029e4a",
   "metadata": {},
   "source": [
    "# import libraries"
   ]
  },
  {
   "cell_type": "code",
   "execution_count": 2,
   "id": "c3a93247",
   "metadata": {},
   "outputs": [],
   "source": [
    "#import liabreries\n",
    "import pandas as pd\n",
    "import  numpy as np\n",
    "import matplotlib.pyplot as plt\n",
    "import seaborn as sns"
   ]
  },
  {
   "cell_type": "markdown",
   "id": "8c3d8704",
   "metadata": {},
   "source": [
    "# Load Dataset"
   ]
  },
  {
   "cell_type": "code",
   "execution_count": 3,
   "id": "d3530b6a",
   "metadata": {},
   "outputs": [
    {
     "data": {
      "text/html": [
       "<div>\n",
       "<style scoped>\n",
       "    .dataframe tbody tr th:only-of-type {\n",
       "        vertical-align: middle;\n",
       "    }\n",
       "\n",
       "    .dataframe tbody tr th {\n",
       "        vertical-align: top;\n",
       "    }\n",
       "\n",
       "    .dataframe thead th {\n",
       "        text-align: right;\n",
       "    }\n",
       "</style>\n",
       "<table border=\"1\" class=\"dataframe\">\n",
       "  <thead>\n",
       "    <tr style=\"text-align: right;\">\n",
       "      <th></th>\n",
       "      <th>country</th>\n",
       "      <th>iso_code</th>\n",
       "      <th>date</th>\n",
       "      <th>total_vaccinations</th>\n",
       "      <th>people_vaccinated</th>\n",
       "      <th>people_fully_vaccinated</th>\n",
       "      <th>daily_vaccinations_raw</th>\n",
       "      <th>daily_vaccinations</th>\n",
       "      <th>total_vaccinations_per_hundred</th>\n",
       "      <th>people_vaccinated_per_hundred</th>\n",
       "      <th>people_fully_vaccinated_per_hundred</th>\n",
       "      <th>daily_vaccinations_per_million</th>\n",
       "      <th>vaccines</th>\n",
       "      <th>source_name</th>\n",
       "      <th>source_website</th>\n",
       "    </tr>\n",
       "  </thead>\n",
       "  <tbody>\n",
       "    <tr>\n",
       "      <th>0</th>\n",
       "      <td>Afghanistan</td>\n",
       "      <td>AFG</td>\n",
       "      <td>2021-02-22</td>\n",
       "      <td>0.0</td>\n",
       "      <td>0.0</td>\n",
       "      <td>NaN</td>\n",
       "      <td>NaN</td>\n",
       "      <td>NaN</td>\n",
       "      <td>0.00</td>\n",
       "      <td>0.00</td>\n",
       "      <td>NaN</td>\n",
       "      <td>NaN</td>\n",
       "      <td>Johnson&amp;Johnson, Oxford/AstraZeneca, Pfizer/Bi...</td>\n",
       "      <td>World Health Organization</td>\n",
       "      <td>https://covid19.who.int/</td>\n",
       "    </tr>\n",
       "    <tr>\n",
       "      <th>1</th>\n",
       "      <td>Afghanistan</td>\n",
       "      <td>AFG</td>\n",
       "      <td>2021-02-23</td>\n",
       "      <td>NaN</td>\n",
       "      <td>NaN</td>\n",
       "      <td>NaN</td>\n",
       "      <td>NaN</td>\n",
       "      <td>1367.0</td>\n",
       "      <td>NaN</td>\n",
       "      <td>NaN</td>\n",
       "      <td>NaN</td>\n",
       "      <td>34.0</td>\n",
       "      <td>Johnson&amp;Johnson, Oxford/AstraZeneca, Pfizer/Bi...</td>\n",
       "      <td>World Health Organization</td>\n",
       "      <td>https://covid19.who.int/</td>\n",
       "    </tr>\n",
       "    <tr>\n",
       "      <th>2</th>\n",
       "      <td>Afghanistan</td>\n",
       "      <td>AFG</td>\n",
       "      <td>2021-02-24</td>\n",
       "      <td>NaN</td>\n",
       "      <td>NaN</td>\n",
       "      <td>NaN</td>\n",
       "      <td>NaN</td>\n",
       "      <td>1367.0</td>\n",
       "      <td>NaN</td>\n",
       "      <td>NaN</td>\n",
       "      <td>NaN</td>\n",
       "      <td>34.0</td>\n",
       "      <td>Johnson&amp;Johnson, Oxford/AstraZeneca, Pfizer/Bi...</td>\n",
       "      <td>World Health Organization</td>\n",
       "      <td>https://covid19.who.int/</td>\n",
       "    </tr>\n",
       "    <tr>\n",
       "      <th>3</th>\n",
       "      <td>Afghanistan</td>\n",
       "      <td>AFG</td>\n",
       "      <td>2021-02-25</td>\n",
       "      <td>NaN</td>\n",
       "      <td>NaN</td>\n",
       "      <td>NaN</td>\n",
       "      <td>NaN</td>\n",
       "      <td>1367.0</td>\n",
       "      <td>NaN</td>\n",
       "      <td>NaN</td>\n",
       "      <td>NaN</td>\n",
       "      <td>34.0</td>\n",
       "      <td>Johnson&amp;Johnson, Oxford/AstraZeneca, Pfizer/Bi...</td>\n",
       "      <td>World Health Organization</td>\n",
       "      <td>https://covid19.who.int/</td>\n",
       "    </tr>\n",
       "    <tr>\n",
       "      <th>4</th>\n",
       "      <td>Afghanistan</td>\n",
       "      <td>AFG</td>\n",
       "      <td>2021-02-26</td>\n",
       "      <td>NaN</td>\n",
       "      <td>NaN</td>\n",
       "      <td>NaN</td>\n",
       "      <td>NaN</td>\n",
       "      <td>1367.0</td>\n",
       "      <td>NaN</td>\n",
       "      <td>NaN</td>\n",
       "      <td>NaN</td>\n",
       "      <td>34.0</td>\n",
       "      <td>Johnson&amp;Johnson, Oxford/AstraZeneca, Pfizer/Bi...</td>\n",
       "      <td>World Health Organization</td>\n",
       "      <td>https://covid19.who.int/</td>\n",
       "    </tr>\n",
       "    <tr>\n",
       "      <th>...</th>\n",
       "      <td>...</td>\n",
       "      <td>...</td>\n",
       "      <td>...</td>\n",
       "      <td>...</td>\n",
       "      <td>...</td>\n",
       "      <td>...</td>\n",
       "      <td>...</td>\n",
       "      <td>...</td>\n",
       "      <td>...</td>\n",
       "      <td>...</td>\n",
       "      <td>...</td>\n",
       "      <td>...</td>\n",
       "      <td>...</td>\n",
       "      <td>...</td>\n",
       "      <td>...</td>\n",
       "    </tr>\n",
       "    <tr>\n",
       "      <th>86507</th>\n",
       "      <td>Zimbabwe</td>\n",
       "      <td>ZWE</td>\n",
       "      <td>2022-03-25</td>\n",
       "      <td>8691642.0</td>\n",
       "      <td>4814582.0</td>\n",
       "      <td>3473523.0</td>\n",
       "      <td>139213.0</td>\n",
       "      <td>69579.0</td>\n",
       "      <td>57.59</td>\n",
       "      <td>31.90</td>\n",
       "      <td>23.02</td>\n",
       "      <td>4610.0</td>\n",
       "      <td>Oxford/AstraZeneca, Sinopharm/Beijing, Sinovac...</td>\n",
       "      <td>Ministry of Health</td>\n",
       "      <td>https://www.arcgis.com/home/webmap/viewer.html...</td>\n",
       "    </tr>\n",
       "    <tr>\n",
       "      <th>86508</th>\n",
       "      <td>Zimbabwe</td>\n",
       "      <td>ZWE</td>\n",
       "      <td>2022-03-26</td>\n",
       "      <td>8791728.0</td>\n",
       "      <td>4886242.0</td>\n",
       "      <td>3487962.0</td>\n",
       "      <td>100086.0</td>\n",
       "      <td>83429.0</td>\n",
       "      <td>58.25</td>\n",
       "      <td>32.38</td>\n",
       "      <td>23.11</td>\n",
       "      <td>5528.0</td>\n",
       "      <td>Oxford/AstraZeneca, Sinopharm/Beijing, Sinovac...</td>\n",
       "      <td>Ministry of Health</td>\n",
       "      <td>https://www.arcgis.com/home/webmap/viewer.html...</td>\n",
       "    </tr>\n",
       "    <tr>\n",
       "      <th>86509</th>\n",
       "      <td>Zimbabwe</td>\n",
       "      <td>ZWE</td>\n",
       "      <td>2022-03-27</td>\n",
       "      <td>8845039.0</td>\n",
       "      <td>4918147.0</td>\n",
       "      <td>3493763.0</td>\n",
       "      <td>53311.0</td>\n",
       "      <td>90629.0</td>\n",
       "      <td>58.61</td>\n",
       "      <td>32.59</td>\n",
       "      <td>23.15</td>\n",
       "      <td>6005.0</td>\n",
       "      <td>Oxford/AstraZeneca, Sinopharm/Beijing, Sinovac...</td>\n",
       "      <td>Ministry of Health</td>\n",
       "      <td>https://www.arcgis.com/home/webmap/viewer.html...</td>\n",
       "    </tr>\n",
       "    <tr>\n",
       "      <th>86510</th>\n",
       "      <td>Zimbabwe</td>\n",
       "      <td>ZWE</td>\n",
       "      <td>2022-03-28</td>\n",
       "      <td>8934360.0</td>\n",
       "      <td>4975433.0</td>\n",
       "      <td>3501493.0</td>\n",
       "      <td>89321.0</td>\n",
       "      <td>100614.0</td>\n",
       "      <td>59.20</td>\n",
       "      <td>32.97</td>\n",
       "      <td>23.20</td>\n",
       "      <td>6667.0</td>\n",
       "      <td>Oxford/AstraZeneca, Sinopharm/Beijing, Sinovac...</td>\n",
       "      <td>Ministry of Health</td>\n",
       "      <td>https://www.arcgis.com/home/webmap/viewer.html...</td>\n",
       "    </tr>\n",
       "    <tr>\n",
       "      <th>86511</th>\n",
       "      <td>Zimbabwe</td>\n",
       "      <td>ZWE</td>\n",
       "      <td>2022-03-29</td>\n",
       "      <td>9039729.0</td>\n",
       "      <td>5053114.0</td>\n",
       "      <td>3510256.0</td>\n",
       "      <td>105369.0</td>\n",
       "      <td>103751.0</td>\n",
       "      <td>59.90</td>\n",
       "      <td>33.48</td>\n",
       "      <td>23.26</td>\n",
       "      <td>6874.0</td>\n",
       "      <td>Oxford/AstraZeneca, Sinopharm/Beijing, Sinovac...</td>\n",
       "      <td>Ministry of Health</td>\n",
       "      <td>https://www.arcgis.com/home/webmap/viewer.html...</td>\n",
       "    </tr>\n",
       "  </tbody>\n",
       "</table>\n",
       "<p>86512 rows × 15 columns</p>\n",
       "</div>"
      ],
      "text/plain": [
       "           country iso_code        date  total_vaccinations  \\\n",
       "0      Afghanistan      AFG  2021-02-22                 0.0   \n",
       "1      Afghanistan      AFG  2021-02-23                 NaN   \n",
       "2      Afghanistan      AFG  2021-02-24                 NaN   \n",
       "3      Afghanistan      AFG  2021-02-25                 NaN   \n",
       "4      Afghanistan      AFG  2021-02-26                 NaN   \n",
       "...            ...      ...         ...                 ...   \n",
       "86507     Zimbabwe      ZWE  2022-03-25           8691642.0   \n",
       "86508     Zimbabwe      ZWE  2022-03-26           8791728.0   \n",
       "86509     Zimbabwe      ZWE  2022-03-27           8845039.0   \n",
       "86510     Zimbabwe      ZWE  2022-03-28           8934360.0   \n",
       "86511     Zimbabwe      ZWE  2022-03-29           9039729.0   \n",
       "\n",
       "       people_vaccinated  people_fully_vaccinated  daily_vaccinations_raw  \\\n",
       "0                    0.0                      NaN                     NaN   \n",
       "1                    NaN                      NaN                     NaN   \n",
       "2                    NaN                      NaN                     NaN   \n",
       "3                    NaN                      NaN                     NaN   \n",
       "4                    NaN                      NaN                     NaN   \n",
       "...                  ...                      ...                     ...   \n",
       "86507          4814582.0                3473523.0                139213.0   \n",
       "86508          4886242.0                3487962.0                100086.0   \n",
       "86509          4918147.0                3493763.0                 53311.0   \n",
       "86510          4975433.0                3501493.0                 89321.0   \n",
       "86511          5053114.0                3510256.0                105369.0   \n",
       "\n",
       "       daily_vaccinations  total_vaccinations_per_hundred  \\\n",
       "0                     NaN                            0.00   \n",
       "1                  1367.0                             NaN   \n",
       "2                  1367.0                             NaN   \n",
       "3                  1367.0                             NaN   \n",
       "4                  1367.0                             NaN   \n",
       "...                   ...                             ...   \n",
       "86507             69579.0                           57.59   \n",
       "86508             83429.0                           58.25   \n",
       "86509             90629.0                           58.61   \n",
       "86510            100614.0                           59.20   \n",
       "86511            103751.0                           59.90   \n",
       "\n",
       "       people_vaccinated_per_hundred  people_fully_vaccinated_per_hundred  \\\n",
       "0                               0.00                                  NaN   \n",
       "1                                NaN                                  NaN   \n",
       "2                                NaN                                  NaN   \n",
       "3                                NaN                                  NaN   \n",
       "4                                NaN                                  NaN   \n",
       "...                              ...                                  ...   \n",
       "86507                          31.90                                23.02   \n",
       "86508                          32.38                                23.11   \n",
       "86509                          32.59                                23.15   \n",
       "86510                          32.97                                23.20   \n",
       "86511                          33.48                                23.26   \n",
       "\n",
       "       daily_vaccinations_per_million  \\\n",
       "0                                 NaN   \n",
       "1                                34.0   \n",
       "2                                34.0   \n",
       "3                                34.0   \n",
       "4                                34.0   \n",
       "...                               ...   \n",
       "86507                          4610.0   \n",
       "86508                          5528.0   \n",
       "86509                          6005.0   \n",
       "86510                          6667.0   \n",
       "86511                          6874.0   \n",
       "\n",
       "                                                vaccines  \\\n",
       "0      Johnson&Johnson, Oxford/AstraZeneca, Pfizer/Bi...   \n",
       "1      Johnson&Johnson, Oxford/AstraZeneca, Pfizer/Bi...   \n",
       "2      Johnson&Johnson, Oxford/AstraZeneca, Pfizer/Bi...   \n",
       "3      Johnson&Johnson, Oxford/AstraZeneca, Pfizer/Bi...   \n",
       "4      Johnson&Johnson, Oxford/AstraZeneca, Pfizer/Bi...   \n",
       "...                                                  ...   \n",
       "86507  Oxford/AstraZeneca, Sinopharm/Beijing, Sinovac...   \n",
       "86508  Oxford/AstraZeneca, Sinopharm/Beijing, Sinovac...   \n",
       "86509  Oxford/AstraZeneca, Sinopharm/Beijing, Sinovac...   \n",
       "86510  Oxford/AstraZeneca, Sinopharm/Beijing, Sinovac...   \n",
       "86511  Oxford/AstraZeneca, Sinopharm/Beijing, Sinovac...   \n",
       "\n",
       "                     source_name  \\\n",
       "0      World Health Organization   \n",
       "1      World Health Organization   \n",
       "2      World Health Organization   \n",
       "3      World Health Organization   \n",
       "4      World Health Organization   \n",
       "...                          ...   \n",
       "86507         Ministry of Health   \n",
       "86508         Ministry of Health   \n",
       "86509         Ministry of Health   \n",
       "86510         Ministry of Health   \n",
       "86511         Ministry of Health   \n",
       "\n",
       "                                          source_website  \n",
       "0                               https://covid19.who.int/  \n",
       "1                               https://covid19.who.int/  \n",
       "2                               https://covid19.who.int/  \n",
       "3                               https://covid19.who.int/  \n",
       "4                               https://covid19.who.int/  \n",
       "...                                                  ...  \n",
       "86507  https://www.arcgis.com/home/webmap/viewer.html...  \n",
       "86508  https://www.arcgis.com/home/webmap/viewer.html...  \n",
       "86509  https://www.arcgis.com/home/webmap/viewer.html...  \n",
       "86510  https://www.arcgis.com/home/webmap/viewer.html...  \n",
       "86511  https://www.arcgis.com/home/webmap/viewer.html...  \n",
       "\n",
       "[86512 rows x 15 columns]"
      ]
     },
     "execution_count": 3,
     "metadata": {},
     "output_type": "execute_result"
    }
   ],
   "source": [
    "path=r\"C:\\country_vaccinations.csv\"\n",
    "df=pd.read_csv(path)\n",
    "df"
   ]
  },
  {
   "cell_type": "code",
   "execution_count": 4,
   "id": "9dbaa55a",
   "metadata": {},
   "outputs": [
    {
     "data": {
      "text/html": [
       "<div>\n",
       "<style scoped>\n",
       "    .dataframe tbody tr th:only-of-type {\n",
       "        vertical-align: middle;\n",
       "    }\n",
       "\n",
       "    .dataframe tbody tr th {\n",
       "        vertical-align: top;\n",
       "    }\n",
       "\n",
       "    .dataframe thead th {\n",
       "        text-align: right;\n",
       "    }\n",
       "</style>\n",
       "<table border=\"1\" class=\"dataframe\">\n",
       "  <thead>\n",
       "    <tr style=\"text-align: right;\">\n",
       "      <th></th>\n",
       "      <th>country</th>\n",
       "      <th>iso_code</th>\n",
       "      <th>date</th>\n",
       "      <th>total_vaccinations</th>\n",
       "      <th>people_vaccinated</th>\n",
       "      <th>people_fully_vaccinated</th>\n",
       "      <th>daily_vaccinations_raw</th>\n",
       "      <th>daily_vaccinations</th>\n",
       "      <th>total_vaccinations_per_hundred</th>\n",
       "      <th>people_vaccinated_per_hundred</th>\n",
       "      <th>people_fully_vaccinated_per_hundred</th>\n",
       "      <th>daily_vaccinations_per_million</th>\n",
       "      <th>vaccines</th>\n",
       "      <th>source_name</th>\n",
       "      <th>source_website</th>\n",
       "    </tr>\n",
       "  </thead>\n",
       "  <tbody>\n",
       "    <tr>\n",
       "      <th>0</th>\n",
       "      <td>Afghanistan</td>\n",
       "      <td>AFG</td>\n",
       "      <td>2021-02-22</td>\n",
       "      <td>0.0</td>\n",
       "      <td>0.0</td>\n",
       "      <td>NaN</td>\n",
       "      <td>NaN</td>\n",
       "      <td>NaN</td>\n",
       "      <td>0.0</td>\n",
       "      <td>0.0</td>\n",
       "      <td>NaN</td>\n",
       "      <td>NaN</td>\n",
       "      <td>Johnson&amp;Johnson, Oxford/AstraZeneca, Pfizer/Bi...</td>\n",
       "      <td>World Health Organization</td>\n",
       "      <td>https://covid19.who.int/</td>\n",
       "    </tr>\n",
       "    <tr>\n",
       "      <th>1</th>\n",
       "      <td>Afghanistan</td>\n",
       "      <td>AFG</td>\n",
       "      <td>2021-02-23</td>\n",
       "      <td>NaN</td>\n",
       "      <td>NaN</td>\n",
       "      <td>NaN</td>\n",
       "      <td>NaN</td>\n",
       "      <td>1367.0</td>\n",
       "      <td>NaN</td>\n",
       "      <td>NaN</td>\n",
       "      <td>NaN</td>\n",
       "      <td>34.0</td>\n",
       "      <td>Johnson&amp;Johnson, Oxford/AstraZeneca, Pfizer/Bi...</td>\n",
       "      <td>World Health Organization</td>\n",
       "      <td>https://covid19.who.int/</td>\n",
       "    </tr>\n",
       "    <tr>\n",
       "      <th>2</th>\n",
       "      <td>Afghanistan</td>\n",
       "      <td>AFG</td>\n",
       "      <td>2021-02-24</td>\n",
       "      <td>NaN</td>\n",
       "      <td>NaN</td>\n",
       "      <td>NaN</td>\n",
       "      <td>NaN</td>\n",
       "      <td>1367.0</td>\n",
       "      <td>NaN</td>\n",
       "      <td>NaN</td>\n",
       "      <td>NaN</td>\n",
       "      <td>34.0</td>\n",
       "      <td>Johnson&amp;Johnson, Oxford/AstraZeneca, Pfizer/Bi...</td>\n",
       "      <td>World Health Organization</td>\n",
       "      <td>https://covid19.who.int/</td>\n",
       "    </tr>\n",
       "    <tr>\n",
       "      <th>3</th>\n",
       "      <td>Afghanistan</td>\n",
       "      <td>AFG</td>\n",
       "      <td>2021-02-25</td>\n",
       "      <td>NaN</td>\n",
       "      <td>NaN</td>\n",
       "      <td>NaN</td>\n",
       "      <td>NaN</td>\n",
       "      <td>1367.0</td>\n",
       "      <td>NaN</td>\n",
       "      <td>NaN</td>\n",
       "      <td>NaN</td>\n",
       "      <td>34.0</td>\n",
       "      <td>Johnson&amp;Johnson, Oxford/AstraZeneca, Pfizer/Bi...</td>\n",
       "      <td>World Health Organization</td>\n",
       "      <td>https://covid19.who.int/</td>\n",
       "    </tr>\n",
       "    <tr>\n",
       "      <th>4</th>\n",
       "      <td>Afghanistan</td>\n",
       "      <td>AFG</td>\n",
       "      <td>2021-02-26</td>\n",
       "      <td>NaN</td>\n",
       "      <td>NaN</td>\n",
       "      <td>NaN</td>\n",
       "      <td>NaN</td>\n",
       "      <td>1367.0</td>\n",
       "      <td>NaN</td>\n",
       "      <td>NaN</td>\n",
       "      <td>NaN</td>\n",
       "      <td>34.0</td>\n",
       "      <td>Johnson&amp;Johnson, Oxford/AstraZeneca, Pfizer/Bi...</td>\n",
       "      <td>World Health Organization</td>\n",
       "      <td>https://covid19.who.int/</td>\n",
       "    </tr>\n",
       "  </tbody>\n",
       "</table>\n",
       "</div>"
      ],
      "text/plain": [
       "       country iso_code        date  total_vaccinations  people_vaccinated  \\\n",
       "0  Afghanistan      AFG  2021-02-22                 0.0                0.0   \n",
       "1  Afghanistan      AFG  2021-02-23                 NaN                NaN   \n",
       "2  Afghanistan      AFG  2021-02-24                 NaN                NaN   \n",
       "3  Afghanistan      AFG  2021-02-25                 NaN                NaN   \n",
       "4  Afghanistan      AFG  2021-02-26                 NaN                NaN   \n",
       "\n",
       "   people_fully_vaccinated  daily_vaccinations_raw  daily_vaccinations  \\\n",
       "0                      NaN                     NaN                 NaN   \n",
       "1                      NaN                     NaN              1367.0   \n",
       "2                      NaN                     NaN              1367.0   \n",
       "3                      NaN                     NaN              1367.0   \n",
       "4                      NaN                     NaN              1367.0   \n",
       "\n",
       "   total_vaccinations_per_hundred  people_vaccinated_per_hundred  \\\n",
       "0                             0.0                            0.0   \n",
       "1                             NaN                            NaN   \n",
       "2                             NaN                            NaN   \n",
       "3                             NaN                            NaN   \n",
       "4                             NaN                            NaN   \n",
       "\n",
       "   people_fully_vaccinated_per_hundred  daily_vaccinations_per_million  \\\n",
       "0                                  NaN                             NaN   \n",
       "1                                  NaN                            34.0   \n",
       "2                                  NaN                            34.0   \n",
       "3                                  NaN                            34.0   \n",
       "4                                  NaN                            34.0   \n",
       "\n",
       "                                            vaccines  \\\n",
       "0  Johnson&Johnson, Oxford/AstraZeneca, Pfizer/Bi...   \n",
       "1  Johnson&Johnson, Oxford/AstraZeneca, Pfizer/Bi...   \n",
       "2  Johnson&Johnson, Oxford/AstraZeneca, Pfizer/Bi...   \n",
       "3  Johnson&Johnson, Oxford/AstraZeneca, Pfizer/Bi...   \n",
       "4  Johnson&Johnson, Oxford/AstraZeneca, Pfizer/Bi...   \n",
       "\n",
       "                 source_name            source_website  \n",
       "0  World Health Organization  https://covid19.who.int/  \n",
       "1  World Health Organization  https://covid19.who.int/  \n",
       "2  World Health Organization  https://covid19.who.int/  \n",
       "3  World Health Organization  https://covid19.who.int/  \n",
       "4  World Health Organization  https://covid19.who.int/  "
      ]
     },
     "execution_count": 4,
     "metadata": {},
     "output_type": "execute_result"
    }
   ],
   "source": [
    "df.head()"
   ]
  },
  {
   "cell_type": "code",
   "execution_count": 5,
   "id": "6303d6d2",
   "metadata": {},
   "outputs": [
    {
     "data": {
      "text/plain": [
       "<bound method NDFrame.describe of            country iso_code        date  total_vaccinations  \\\n",
       "0      Afghanistan      AFG  2021-02-22                 0.0   \n",
       "1      Afghanistan      AFG  2021-02-23                 NaN   \n",
       "2      Afghanistan      AFG  2021-02-24                 NaN   \n",
       "3      Afghanistan      AFG  2021-02-25                 NaN   \n",
       "4      Afghanistan      AFG  2021-02-26                 NaN   \n",
       "...            ...      ...         ...                 ...   \n",
       "86507     Zimbabwe      ZWE  2022-03-25           8691642.0   \n",
       "86508     Zimbabwe      ZWE  2022-03-26           8791728.0   \n",
       "86509     Zimbabwe      ZWE  2022-03-27           8845039.0   \n",
       "86510     Zimbabwe      ZWE  2022-03-28           8934360.0   \n",
       "86511     Zimbabwe      ZWE  2022-03-29           9039729.0   \n",
       "\n",
       "       people_vaccinated  people_fully_vaccinated  daily_vaccinations_raw  \\\n",
       "0                    0.0                      NaN                     NaN   \n",
       "1                    NaN                      NaN                     NaN   \n",
       "2                    NaN                      NaN                     NaN   \n",
       "3                    NaN                      NaN                     NaN   \n",
       "4                    NaN                      NaN                     NaN   \n",
       "...                  ...                      ...                     ...   \n",
       "86507          4814582.0                3473523.0                139213.0   \n",
       "86508          4886242.0                3487962.0                100086.0   \n",
       "86509          4918147.0                3493763.0                 53311.0   \n",
       "86510          4975433.0                3501493.0                 89321.0   \n",
       "86511          5053114.0                3510256.0                105369.0   \n",
       "\n",
       "       daily_vaccinations  total_vaccinations_per_hundred  \\\n",
       "0                     NaN                            0.00   \n",
       "1                  1367.0                             NaN   \n",
       "2                  1367.0                             NaN   \n",
       "3                  1367.0                             NaN   \n",
       "4                  1367.0                             NaN   \n",
       "...                   ...                             ...   \n",
       "86507             69579.0                           57.59   \n",
       "86508             83429.0                           58.25   \n",
       "86509             90629.0                           58.61   \n",
       "86510            100614.0                           59.20   \n",
       "86511            103751.0                           59.90   \n",
       "\n",
       "       people_vaccinated_per_hundred  people_fully_vaccinated_per_hundred  \\\n",
       "0                               0.00                                  NaN   \n",
       "1                                NaN                                  NaN   \n",
       "2                                NaN                                  NaN   \n",
       "3                                NaN                                  NaN   \n",
       "4                                NaN                                  NaN   \n",
       "...                              ...                                  ...   \n",
       "86507                          31.90                                23.02   \n",
       "86508                          32.38                                23.11   \n",
       "86509                          32.59                                23.15   \n",
       "86510                          32.97                                23.20   \n",
       "86511                          33.48                                23.26   \n",
       "\n",
       "       daily_vaccinations_per_million  \\\n",
       "0                                 NaN   \n",
       "1                                34.0   \n",
       "2                                34.0   \n",
       "3                                34.0   \n",
       "4                                34.0   \n",
       "...                               ...   \n",
       "86507                          4610.0   \n",
       "86508                          5528.0   \n",
       "86509                          6005.0   \n",
       "86510                          6667.0   \n",
       "86511                          6874.0   \n",
       "\n",
       "                                                vaccines  \\\n",
       "0      Johnson&Johnson, Oxford/AstraZeneca, Pfizer/Bi...   \n",
       "1      Johnson&Johnson, Oxford/AstraZeneca, Pfizer/Bi...   \n",
       "2      Johnson&Johnson, Oxford/AstraZeneca, Pfizer/Bi...   \n",
       "3      Johnson&Johnson, Oxford/AstraZeneca, Pfizer/Bi...   \n",
       "4      Johnson&Johnson, Oxford/AstraZeneca, Pfizer/Bi...   \n",
       "...                                                  ...   \n",
       "86507  Oxford/AstraZeneca, Sinopharm/Beijing, Sinovac...   \n",
       "86508  Oxford/AstraZeneca, Sinopharm/Beijing, Sinovac...   \n",
       "86509  Oxford/AstraZeneca, Sinopharm/Beijing, Sinovac...   \n",
       "86510  Oxford/AstraZeneca, Sinopharm/Beijing, Sinovac...   \n",
       "86511  Oxford/AstraZeneca, Sinopharm/Beijing, Sinovac...   \n",
       "\n",
       "                     source_name  \\\n",
       "0      World Health Organization   \n",
       "1      World Health Organization   \n",
       "2      World Health Organization   \n",
       "3      World Health Organization   \n",
       "4      World Health Organization   \n",
       "...                          ...   \n",
       "86507         Ministry of Health   \n",
       "86508         Ministry of Health   \n",
       "86509         Ministry of Health   \n",
       "86510         Ministry of Health   \n",
       "86511         Ministry of Health   \n",
       "\n",
       "                                          source_website  \n",
       "0                               https://covid19.who.int/  \n",
       "1                               https://covid19.who.int/  \n",
       "2                               https://covid19.who.int/  \n",
       "3                               https://covid19.who.int/  \n",
       "4                               https://covid19.who.int/  \n",
       "...                                                  ...  \n",
       "86507  https://www.arcgis.com/home/webmap/viewer.html...  \n",
       "86508  https://www.arcgis.com/home/webmap/viewer.html...  \n",
       "86509  https://www.arcgis.com/home/webmap/viewer.html...  \n",
       "86510  https://www.arcgis.com/home/webmap/viewer.html...  \n",
       "86511  https://www.arcgis.com/home/webmap/viewer.html...  \n",
       "\n",
       "[86512 rows x 15 columns]>"
      ]
     },
     "execution_count": 5,
     "metadata": {},
     "output_type": "execute_result"
    }
   ],
   "source": [
    "df.describe"
   ]
  },
  {
   "cell_type": "code",
   "execution_count": 6,
   "id": "80b1ee0f",
   "metadata": {},
   "outputs": [
    {
     "data": {
      "text/plain": [
       "(86512, 15)"
      ]
     },
     "execution_count": 6,
     "metadata": {},
     "output_type": "execute_result"
    }
   ],
   "source": [
    "df.shape"
   ]
  },
  {
   "cell_type": "code",
   "execution_count": 7,
   "id": "5caaf7f9",
   "metadata": {},
   "outputs": [
    {
     "data": {
      "text/plain": [
       "<bound method DataFrame.info of            country iso_code        date  total_vaccinations  \\\n",
       "0      Afghanistan      AFG  2021-02-22                 0.0   \n",
       "1      Afghanistan      AFG  2021-02-23                 NaN   \n",
       "2      Afghanistan      AFG  2021-02-24                 NaN   \n",
       "3      Afghanistan      AFG  2021-02-25                 NaN   \n",
       "4      Afghanistan      AFG  2021-02-26                 NaN   \n",
       "...            ...      ...         ...                 ...   \n",
       "86507     Zimbabwe      ZWE  2022-03-25           8691642.0   \n",
       "86508     Zimbabwe      ZWE  2022-03-26           8791728.0   \n",
       "86509     Zimbabwe      ZWE  2022-03-27           8845039.0   \n",
       "86510     Zimbabwe      ZWE  2022-03-28           8934360.0   \n",
       "86511     Zimbabwe      ZWE  2022-03-29           9039729.0   \n",
       "\n",
       "       people_vaccinated  people_fully_vaccinated  daily_vaccinations_raw  \\\n",
       "0                    0.0                      NaN                     NaN   \n",
       "1                    NaN                      NaN                     NaN   \n",
       "2                    NaN                      NaN                     NaN   \n",
       "3                    NaN                      NaN                     NaN   \n",
       "4                    NaN                      NaN                     NaN   \n",
       "...                  ...                      ...                     ...   \n",
       "86507          4814582.0                3473523.0                139213.0   \n",
       "86508          4886242.0                3487962.0                100086.0   \n",
       "86509          4918147.0                3493763.0                 53311.0   \n",
       "86510          4975433.0                3501493.0                 89321.0   \n",
       "86511          5053114.0                3510256.0                105369.0   \n",
       "\n",
       "       daily_vaccinations  total_vaccinations_per_hundred  \\\n",
       "0                     NaN                            0.00   \n",
       "1                  1367.0                             NaN   \n",
       "2                  1367.0                             NaN   \n",
       "3                  1367.0                             NaN   \n",
       "4                  1367.0                             NaN   \n",
       "...                   ...                             ...   \n",
       "86507             69579.0                           57.59   \n",
       "86508             83429.0                           58.25   \n",
       "86509             90629.0                           58.61   \n",
       "86510            100614.0                           59.20   \n",
       "86511            103751.0                           59.90   \n",
       "\n",
       "       people_vaccinated_per_hundred  people_fully_vaccinated_per_hundred  \\\n",
       "0                               0.00                                  NaN   \n",
       "1                                NaN                                  NaN   \n",
       "2                                NaN                                  NaN   \n",
       "3                                NaN                                  NaN   \n",
       "4                                NaN                                  NaN   \n",
       "...                              ...                                  ...   \n",
       "86507                          31.90                                23.02   \n",
       "86508                          32.38                                23.11   \n",
       "86509                          32.59                                23.15   \n",
       "86510                          32.97                                23.20   \n",
       "86511                          33.48                                23.26   \n",
       "\n",
       "       daily_vaccinations_per_million  \\\n",
       "0                                 NaN   \n",
       "1                                34.0   \n",
       "2                                34.0   \n",
       "3                                34.0   \n",
       "4                                34.0   \n",
       "...                               ...   \n",
       "86507                          4610.0   \n",
       "86508                          5528.0   \n",
       "86509                          6005.0   \n",
       "86510                          6667.0   \n",
       "86511                          6874.0   \n",
       "\n",
       "                                                vaccines  \\\n",
       "0      Johnson&Johnson, Oxford/AstraZeneca, Pfizer/Bi...   \n",
       "1      Johnson&Johnson, Oxford/AstraZeneca, Pfizer/Bi...   \n",
       "2      Johnson&Johnson, Oxford/AstraZeneca, Pfizer/Bi...   \n",
       "3      Johnson&Johnson, Oxford/AstraZeneca, Pfizer/Bi...   \n",
       "4      Johnson&Johnson, Oxford/AstraZeneca, Pfizer/Bi...   \n",
       "...                                                  ...   \n",
       "86507  Oxford/AstraZeneca, Sinopharm/Beijing, Sinovac...   \n",
       "86508  Oxford/AstraZeneca, Sinopharm/Beijing, Sinovac...   \n",
       "86509  Oxford/AstraZeneca, Sinopharm/Beijing, Sinovac...   \n",
       "86510  Oxford/AstraZeneca, Sinopharm/Beijing, Sinovac...   \n",
       "86511  Oxford/AstraZeneca, Sinopharm/Beijing, Sinovac...   \n",
       "\n",
       "                     source_name  \\\n",
       "0      World Health Organization   \n",
       "1      World Health Organization   \n",
       "2      World Health Organization   \n",
       "3      World Health Organization   \n",
       "4      World Health Organization   \n",
       "...                          ...   \n",
       "86507         Ministry of Health   \n",
       "86508         Ministry of Health   \n",
       "86509         Ministry of Health   \n",
       "86510         Ministry of Health   \n",
       "86511         Ministry of Health   \n",
       "\n",
       "                                          source_website  \n",
       "0                               https://covid19.who.int/  \n",
       "1                               https://covid19.who.int/  \n",
       "2                               https://covid19.who.int/  \n",
       "3                               https://covid19.who.int/  \n",
       "4                               https://covid19.who.int/  \n",
       "...                                                  ...  \n",
       "86507  https://www.arcgis.com/home/webmap/viewer.html...  \n",
       "86508  https://www.arcgis.com/home/webmap/viewer.html...  \n",
       "86509  https://www.arcgis.com/home/webmap/viewer.html...  \n",
       "86510  https://www.arcgis.com/home/webmap/viewer.html...  \n",
       "86511  https://www.arcgis.com/home/webmap/viewer.html...  \n",
       "\n",
       "[86512 rows x 15 columns]>"
      ]
     },
     "execution_count": 7,
     "metadata": {},
     "output_type": "execute_result"
    }
   ],
   "source": [
    "df.info"
   ]
  },
  {
   "cell_type": "code",
   "execution_count": 8,
   "id": "fae730b3",
   "metadata": {},
   "outputs": [
    {
     "data": {
      "text/plain": [
       "country                                    0\n",
       "iso_code                                   0\n",
       "date                                       0\n",
       "total_vaccinations                     42905\n",
       "people_vaccinated                      45218\n",
       "people_fully_vaccinated                47710\n",
       "daily_vaccinations_raw                 51150\n",
       "daily_vaccinations                       299\n",
       "total_vaccinations_per_hundred         42905\n",
       "people_vaccinated_per_hundred          45218\n",
       "people_fully_vaccinated_per_hundred    47710\n",
       "daily_vaccinations_per_million           299\n",
       "vaccines                                   0\n",
       "source_name                                0\n",
       "source_website                             0\n",
       "dtype: int64"
      ]
     },
     "execution_count": 8,
     "metadata": {},
     "output_type": "execute_result"
    }
   ],
   "source": [
    "df.isnull().sum()"
   ]
  },
  {
   "cell_type": "code",
   "execution_count": 9,
   "id": "93ed7df6",
   "metadata": {},
   "outputs": [
    {
     "name": "stderr",
     "output_type": "stream",
     "text": [
      "C:\\Users\\HP\\AppData\\Local\\Temp\\ipykernel_17800\\3834695363.py:1: FutureWarning: The default value of numeric_only in DataFrame.mean is deprecated. In a future version, it will default to False. In addition, specifying 'numeric_only=None' is deprecated. Select only valid columns or specify the value of numeric_only to silence this warning.\n",
      "  df=df.fillna(df.mean())\n"
     ]
    },
    {
     "data": {
      "text/html": [
       "<div>\n",
       "<style scoped>\n",
       "    .dataframe tbody tr th:only-of-type {\n",
       "        vertical-align: middle;\n",
       "    }\n",
       "\n",
       "    .dataframe tbody tr th {\n",
       "        vertical-align: top;\n",
       "    }\n",
       "\n",
       "    .dataframe thead th {\n",
       "        text-align: right;\n",
       "    }\n",
       "</style>\n",
       "<table border=\"1\" class=\"dataframe\">\n",
       "  <thead>\n",
       "    <tr style=\"text-align: right;\">\n",
       "      <th></th>\n",
       "      <th>country</th>\n",
       "      <th>iso_code</th>\n",
       "      <th>date</th>\n",
       "      <th>total_vaccinations</th>\n",
       "      <th>people_vaccinated</th>\n",
       "      <th>people_fully_vaccinated</th>\n",
       "      <th>daily_vaccinations_raw</th>\n",
       "      <th>daily_vaccinations</th>\n",
       "      <th>total_vaccinations_per_hundred</th>\n",
       "      <th>people_vaccinated_per_hundred</th>\n",
       "      <th>people_fully_vaccinated_per_hundred</th>\n",
       "      <th>daily_vaccinations_per_million</th>\n",
       "      <th>vaccines</th>\n",
       "      <th>source_name</th>\n",
       "      <th>source_website</th>\n",
       "    </tr>\n",
       "  </thead>\n",
       "  <tbody>\n",
       "    <tr>\n",
       "      <th>0</th>\n",
       "      <td>Afghanistan</td>\n",
       "      <td>AFG</td>\n",
       "      <td>2021-02-22</td>\n",
       "      <td>0.000000e+00</td>\n",
       "      <td>0.000000e+00</td>\n",
       "      <td>1.413830e+07</td>\n",
       "      <td>270599.578248</td>\n",
       "      <td>131305.486075</td>\n",
       "      <td>0.000000</td>\n",
       "      <td>0.000000</td>\n",
       "      <td>35.523243</td>\n",
       "      <td>3257.049157</td>\n",
       "      <td>Johnson&amp;Johnson, Oxford/AstraZeneca, Pfizer/Bi...</td>\n",
       "      <td>World Health Organization</td>\n",
       "      <td>https://covid19.who.int/</td>\n",
       "    </tr>\n",
       "    <tr>\n",
       "      <th>1</th>\n",
       "      <td>Afghanistan</td>\n",
       "      <td>AFG</td>\n",
       "      <td>2021-02-23</td>\n",
       "      <td>4.592964e+07</td>\n",
       "      <td>1.770508e+07</td>\n",
       "      <td>1.413830e+07</td>\n",
       "      <td>270599.578248</td>\n",
       "      <td>1367.000000</td>\n",
       "      <td>80.188543</td>\n",
       "      <td>40.927317</td>\n",
       "      <td>35.523243</td>\n",
       "      <td>34.000000</td>\n",
       "      <td>Johnson&amp;Johnson, Oxford/AstraZeneca, Pfizer/Bi...</td>\n",
       "      <td>World Health Organization</td>\n",
       "      <td>https://covid19.who.int/</td>\n",
       "    </tr>\n",
       "    <tr>\n",
       "      <th>2</th>\n",
       "      <td>Afghanistan</td>\n",
       "      <td>AFG</td>\n",
       "      <td>2021-02-24</td>\n",
       "      <td>4.592964e+07</td>\n",
       "      <td>1.770508e+07</td>\n",
       "      <td>1.413830e+07</td>\n",
       "      <td>270599.578248</td>\n",
       "      <td>1367.000000</td>\n",
       "      <td>80.188543</td>\n",
       "      <td>40.927317</td>\n",
       "      <td>35.523243</td>\n",
       "      <td>34.000000</td>\n",
       "      <td>Johnson&amp;Johnson, Oxford/AstraZeneca, Pfizer/Bi...</td>\n",
       "      <td>World Health Organization</td>\n",
       "      <td>https://covid19.who.int/</td>\n",
       "    </tr>\n",
       "    <tr>\n",
       "      <th>3</th>\n",
       "      <td>Afghanistan</td>\n",
       "      <td>AFG</td>\n",
       "      <td>2021-02-25</td>\n",
       "      <td>4.592964e+07</td>\n",
       "      <td>1.770508e+07</td>\n",
       "      <td>1.413830e+07</td>\n",
       "      <td>270599.578248</td>\n",
       "      <td>1367.000000</td>\n",
       "      <td>80.188543</td>\n",
       "      <td>40.927317</td>\n",
       "      <td>35.523243</td>\n",
       "      <td>34.000000</td>\n",
       "      <td>Johnson&amp;Johnson, Oxford/AstraZeneca, Pfizer/Bi...</td>\n",
       "      <td>World Health Organization</td>\n",
       "      <td>https://covid19.who.int/</td>\n",
       "    </tr>\n",
       "    <tr>\n",
       "      <th>4</th>\n",
       "      <td>Afghanistan</td>\n",
       "      <td>AFG</td>\n",
       "      <td>2021-02-26</td>\n",
       "      <td>4.592964e+07</td>\n",
       "      <td>1.770508e+07</td>\n",
       "      <td>1.413830e+07</td>\n",
       "      <td>270599.578248</td>\n",
       "      <td>1367.000000</td>\n",
       "      <td>80.188543</td>\n",
       "      <td>40.927317</td>\n",
       "      <td>35.523243</td>\n",
       "      <td>34.000000</td>\n",
       "      <td>Johnson&amp;Johnson, Oxford/AstraZeneca, Pfizer/Bi...</td>\n",
       "      <td>World Health Organization</td>\n",
       "      <td>https://covid19.who.int/</td>\n",
       "    </tr>\n",
       "    <tr>\n",
       "      <th>...</th>\n",
       "      <td>...</td>\n",
       "      <td>...</td>\n",
       "      <td>...</td>\n",
       "      <td>...</td>\n",
       "      <td>...</td>\n",
       "      <td>...</td>\n",
       "      <td>...</td>\n",
       "      <td>...</td>\n",
       "      <td>...</td>\n",
       "      <td>...</td>\n",
       "      <td>...</td>\n",
       "      <td>...</td>\n",
       "      <td>...</td>\n",
       "      <td>...</td>\n",
       "      <td>...</td>\n",
       "    </tr>\n",
       "    <tr>\n",
       "      <th>86507</th>\n",
       "      <td>Zimbabwe</td>\n",
       "      <td>ZWE</td>\n",
       "      <td>2022-03-25</td>\n",
       "      <td>8.691642e+06</td>\n",
       "      <td>4.814582e+06</td>\n",
       "      <td>3.473523e+06</td>\n",
       "      <td>139213.000000</td>\n",
       "      <td>69579.000000</td>\n",
       "      <td>57.590000</td>\n",
       "      <td>31.900000</td>\n",
       "      <td>23.020000</td>\n",
       "      <td>4610.000000</td>\n",
       "      <td>Oxford/AstraZeneca, Sinopharm/Beijing, Sinovac...</td>\n",
       "      <td>Ministry of Health</td>\n",
       "      <td>https://www.arcgis.com/home/webmap/viewer.html...</td>\n",
       "    </tr>\n",
       "    <tr>\n",
       "      <th>86508</th>\n",
       "      <td>Zimbabwe</td>\n",
       "      <td>ZWE</td>\n",
       "      <td>2022-03-26</td>\n",
       "      <td>8.791728e+06</td>\n",
       "      <td>4.886242e+06</td>\n",
       "      <td>3.487962e+06</td>\n",
       "      <td>100086.000000</td>\n",
       "      <td>83429.000000</td>\n",
       "      <td>58.250000</td>\n",
       "      <td>32.380000</td>\n",
       "      <td>23.110000</td>\n",
       "      <td>5528.000000</td>\n",
       "      <td>Oxford/AstraZeneca, Sinopharm/Beijing, Sinovac...</td>\n",
       "      <td>Ministry of Health</td>\n",
       "      <td>https://www.arcgis.com/home/webmap/viewer.html...</td>\n",
       "    </tr>\n",
       "    <tr>\n",
       "      <th>86509</th>\n",
       "      <td>Zimbabwe</td>\n",
       "      <td>ZWE</td>\n",
       "      <td>2022-03-27</td>\n",
       "      <td>8.845039e+06</td>\n",
       "      <td>4.918147e+06</td>\n",
       "      <td>3.493763e+06</td>\n",
       "      <td>53311.000000</td>\n",
       "      <td>90629.000000</td>\n",
       "      <td>58.610000</td>\n",
       "      <td>32.590000</td>\n",
       "      <td>23.150000</td>\n",
       "      <td>6005.000000</td>\n",
       "      <td>Oxford/AstraZeneca, Sinopharm/Beijing, Sinovac...</td>\n",
       "      <td>Ministry of Health</td>\n",
       "      <td>https://www.arcgis.com/home/webmap/viewer.html...</td>\n",
       "    </tr>\n",
       "    <tr>\n",
       "      <th>86510</th>\n",
       "      <td>Zimbabwe</td>\n",
       "      <td>ZWE</td>\n",
       "      <td>2022-03-28</td>\n",
       "      <td>8.934360e+06</td>\n",
       "      <td>4.975433e+06</td>\n",
       "      <td>3.501493e+06</td>\n",
       "      <td>89321.000000</td>\n",
       "      <td>100614.000000</td>\n",
       "      <td>59.200000</td>\n",
       "      <td>32.970000</td>\n",
       "      <td>23.200000</td>\n",
       "      <td>6667.000000</td>\n",
       "      <td>Oxford/AstraZeneca, Sinopharm/Beijing, Sinovac...</td>\n",
       "      <td>Ministry of Health</td>\n",
       "      <td>https://www.arcgis.com/home/webmap/viewer.html...</td>\n",
       "    </tr>\n",
       "    <tr>\n",
       "      <th>86511</th>\n",
       "      <td>Zimbabwe</td>\n",
       "      <td>ZWE</td>\n",
       "      <td>2022-03-29</td>\n",
       "      <td>9.039729e+06</td>\n",
       "      <td>5.053114e+06</td>\n",
       "      <td>3.510256e+06</td>\n",
       "      <td>105369.000000</td>\n",
       "      <td>103751.000000</td>\n",
       "      <td>59.900000</td>\n",
       "      <td>33.480000</td>\n",
       "      <td>23.260000</td>\n",
       "      <td>6874.000000</td>\n",
       "      <td>Oxford/AstraZeneca, Sinopharm/Beijing, Sinovac...</td>\n",
       "      <td>Ministry of Health</td>\n",
       "      <td>https://www.arcgis.com/home/webmap/viewer.html...</td>\n",
       "    </tr>\n",
       "  </tbody>\n",
       "</table>\n",
       "<p>86512 rows × 15 columns</p>\n",
       "</div>"
      ],
      "text/plain": [
       "           country iso_code        date  total_vaccinations  \\\n",
       "0      Afghanistan      AFG  2021-02-22        0.000000e+00   \n",
       "1      Afghanistan      AFG  2021-02-23        4.592964e+07   \n",
       "2      Afghanistan      AFG  2021-02-24        4.592964e+07   \n",
       "3      Afghanistan      AFG  2021-02-25        4.592964e+07   \n",
       "4      Afghanistan      AFG  2021-02-26        4.592964e+07   \n",
       "...            ...      ...         ...                 ...   \n",
       "86507     Zimbabwe      ZWE  2022-03-25        8.691642e+06   \n",
       "86508     Zimbabwe      ZWE  2022-03-26        8.791728e+06   \n",
       "86509     Zimbabwe      ZWE  2022-03-27        8.845039e+06   \n",
       "86510     Zimbabwe      ZWE  2022-03-28        8.934360e+06   \n",
       "86511     Zimbabwe      ZWE  2022-03-29        9.039729e+06   \n",
       "\n",
       "       people_vaccinated  people_fully_vaccinated  daily_vaccinations_raw  \\\n",
       "0           0.000000e+00             1.413830e+07           270599.578248   \n",
       "1           1.770508e+07             1.413830e+07           270599.578248   \n",
       "2           1.770508e+07             1.413830e+07           270599.578248   \n",
       "3           1.770508e+07             1.413830e+07           270599.578248   \n",
       "4           1.770508e+07             1.413830e+07           270599.578248   \n",
       "...                  ...                      ...                     ...   \n",
       "86507       4.814582e+06             3.473523e+06           139213.000000   \n",
       "86508       4.886242e+06             3.487962e+06           100086.000000   \n",
       "86509       4.918147e+06             3.493763e+06            53311.000000   \n",
       "86510       4.975433e+06             3.501493e+06            89321.000000   \n",
       "86511       5.053114e+06             3.510256e+06           105369.000000   \n",
       "\n",
       "       daily_vaccinations  total_vaccinations_per_hundred  \\\n",
       "0           131305.486075                        0.000000   \n",
       "1             1367.000000                       80.188543   \n",
       "2             1367.000000                       80.188543   \n",
       "3             1367.000000                       80.188543   \n",
       "4             1367.000000                       80.188543   \n",
       "...                   ...                             ...   \n",
       "86507        69579.000000                       57.590000   \n",
       "86508        83429.000000                       58.250000   \n",
       "86509        90629.000000                       58.610000   \n",
       "86510       100614.000000                       59.200000   \n",
       "86511       103751.000000                       59.900000   \n",
       "\n",
       "       people_vaccinated_per_hundred  people_fully_vaccinated_per_hundred  \\\n",
       "0                           0.000000                            35.523243   \n",
       "1                          40.927317                            35.523243   \n",
       "2                          40.927317                            35.523243   \n",
       "3                          40.927317                            35.523243   \n",
       "4                          40.927317                            35.523243   \n",
       "...                              ...                                  ...   \n",
       "86507                      31.900000                            23.020000   \n",
       "86508                      32.380000                            23.110000   \n",
       "86509                      32.590000                            23.150000   \n",
       "86510                      32.970000                            23.200000   \n",
       "86511                      33.480000                            23.260000   \n",
       "\n",
       "       daily_vaccinations_per_million  \\\n",
       "0                         3257.049157   \n",
       "1                           34.000000   \n",
       "2                           34.000000   \n",
       "3                           34.000000   \n",
       "4                           34.000000   \n",
       "...                               ...   \n",
       "86507                     4610.000000   \n",
       "86508                     5528.000000   \n",
       "86509                     6005.000000   \n",
       "86510                     6667.000000   \n",
       "86511                     6874.000000   \n",
       "\n",
       "                                                vaccines  \\\n",
       "0      Johnson&Johnson, Oxford/AstraZeneca, Pfizer/Bi...   \n",
       "1      Johnson&Johnson, Oxford/AstraZeneca, Pfizer/Bi...   \n",
       "2      Johnson&Johnson, Oxford/AstraZeneca, Pfizer/Bi...   \n",
       "3      Johnson&Johnson, Oxford/AstraZeneca, Pfizer/Bi...   \n",
       "4      Johnson&Johnson, Oxford/AstraZeneca, Pfizer/Bi...   \n",
       "...                                                  ...   \n",
       "86507  Oxford/AstraZeneca, Sinopharm/Beijing, Sinovac...   \n",
       "86508  Oxford/AstraZeneca, Sinopharm/Beijing, Sinovac...   \n",
       "86509  Oxford/AstraZeneca, Sinopharm/Beijing, Sinovac...   \n",
       "86510  Oxford/AstraZeneca, Sinopharm/Beijing, Sinovac...   \n",
       "86511  Oxford/AstraZeneca, Sinopharm/Beijing, Sinovac...   \n",
       "\n",
       "                     source_name  \\\n",
       "0      World Health Organization   \n",
       "1      World Health Organization   \n",
       "2      World Health Organization   \n",
       "3      World Health Organization   \n",
       "4      World Health Organization   \n",
       "...                          ...   \n",
       "86507         Ministry of Health   \n",
       "86508         Ministry of Health   \n",
       "86509         Ministry of Health   \n",
       "86510         Ministry of Health   \n",
       "86511         Ministry of Health   \n",
       "\n",
       "                                          source_website  \n",
       "0                               https://covid19.who.int/  \n",
       "1                               https://covid19.who.int/  \n",
       "2                               https://covid19.who.int/  \n",
       "3                               https://covid19.who.int/  \n",
       "4                               https://covid19.who.int/  \n",
       "...                                                  ...  \n",
       "86507  https://www.arcgis.com/home/webmap/viewer.html...  \n",
       "86508  https://www.arcgis.com/home/webmap/viewer.html...  \n",
       "86509  https://www.arcgis.com/home/webmap/viewer.html...  \n",
       "86510  https://www.arcgis.com/home/webmap/viewer.html...  \n",
       "86511  https://www.arcgis.com/home/webmap/viewer.html...  \n",
       "\n",
       "[86512 rows x 15 columns]"
      ]
     },
     "execution_count": 9,
     "metadata": {},
     "output_type": "execute_result"
    }
   ],
   "source": [
    "df=df.fillna(df.mean())\n",
    "df"
   ]
  },
  {
   "cell_type": "code",
   "execution_count": 10,
   "id": "880e0527",
   "metadata": {},
   "outputs": [
    {
     "data": {
      "text/plain": [
       "country                                0\n",
       "iso_code                               0\n",
       "date                                   0\n",
       "total_vaccinations                     0\n",
       "people_vaccinated                      0\n",
       "people_fully_vaccinated                0\n",
       "daily_vaccinations_raw                 0\n",
       "daily_vaccinations                     0\n",
       "total_vaccinations_per_hundred         0\n",
       "people_vaccinated_per_hundred          0\n",
       "people_fully_vaccinated_per_hundred    0\n",
       "daily_vaccinations_per_million         0\n",
       "vaccines                               0\n",
       "source_name                            0\n",
       "source_website                         0\n",
       "dtype: int64"
      ]
     },
     "execution_count": 10,
     "metadata": {},
     "output_type": "execute_result"
    }
   ],
   "source": [
    "df.isnull().sum()"
   ]
  },
  {
   "cell_type": "markdown",
   "id": "2be17ea3",
   "metadata": {},
   "source": [
    "# Data Visualization"
   ]
  },
  {
   "cell_type": "code",
   "execution_count": 13,
   "id": "17099300",
   "metadata": {},
   "outputs": [
    {
     "data": {
      "text/plain": [
       "<seaborn.axisgrid.FacetGrid at 0x14b6c91e620>"
      ]
     },
     "execution_count": 13,
     "metadata": {},
     "output_type": "execute_result"
    },
    {
     "data": {
      "image/png": "[encoded data removed]",
      "text/plain": [
       "<Figure size 500x500 with 1 Axes>"
      ]
     },
     "metadata": {},
     "output_type": "display_data"
    },
    {
     "data": {
      "image/png": "[encoded data removed]",
      "text/plain": [
       "<Figure size 500x500 with 1 Axes>"
      ]
     },
     "metadata": {},
     "output_type": "display_data"
    },
    {
     "data": {
      "image/png": "[encoded data removed]",
      "text/plain": [
       "<Figure size 500x500 with 1 Axes>"
      ]
     },
     "metadata": {},
     "output_type": "display_data"
    },
    {
     "data": {
      "image/png": "[encoded data removed]",
      "text/plain": [
       "<Figure size 500x500 with 1 Axes>"
      ]
     },
     "metadata": {},
     "output_type": "display_data"
    }
   ],
   "source": [
    "sns.displot(df.country)\n",
    "sns.displot(df.total_vaccinations)\n",
    "sns.displot(df.people_vaccinated)\n",
    "sns.displot(df.people_fully_vaccinated)\n",
    "\n"
   ]
  },
  {
   "cell_type": "code",
   "execution_count": null,
   "id": "c60da72d",
   "metadata": {},
   "outputs": [],
   "source": [
    "sns.boxplot(x=\"people_vaccinated\", y=\"\", data=df)"
   ]
  },
  {
   "cell_type": "code",
   "execution_count": 12,
   "id": "ead7cf87",
   "metadata": {},
   "outputs": [
    {
     "data": {
      "text/plain": [
       "array([  0,   0,   0, ..., 222, 222, 222])"
      ]
     },
     "execution_count": 12,
     "metadata": {},
     "output_type": "execute_result"
    }
   ],
   "source": [
    "from sklearn.preprocessing import LabelEncoder\n",
    "le=LabelEncoder()\n",
    "le.fit_transform(df['country'])"
   ]
  },
  {
   "cell_type": "code",
   "execution_count": 13,
   "id": "3f0a6b22",
   "metadata": {},
   "outputs": [],
   "source": [
    "df[\"country\"]=le.fit_transform(df[\"country\"])"
   ]
  },
  {
   "cell_type": "code",
   "execution_count": 14,
   "id": "e58bab4b",
   "metadata": {},
   "outputs": [],
   "source": [
    "df[\"iso_code\"]=le.fit_transform(df[\"iso_code\"])"
   ]
  },
  {
   "cell_type": "code",
   "execution_count": 15,
   "id": "62a9fbd0",
   "metadata": {},
   "outputs": [],
   "source": [
    "df[\"date\"]=le.fit_transform(df[\"date\"])"
   ]
  },
  {
   "cell_type": "code",
   "execution_count": 16,
   "id": "89439da0",
   "metadata": {},
   "outputs": [],
   "source": [
    "df[\"date\"]=le.fit_transform(df[\"date\"])"
   ]
  },
  {
   "cell_type": "code",
   "execution_count": 17,
   "id": "8a9db9f5",
   "metadata": {},
   "outputs": [],
   "source": [
    "df[\"source_name\"]=le.fit_transform(df[\"source_name\"])"
   ]
  },
  {
   "cell_type": "code",
   "execution_count": 18,
   "id": "79ca2127",
   "metadata": {},
   "outputs": [],
   "source": [
    "df[\"source_website\"]=le.fit_transform(df[\"source_website\"])"
   ]
  },
  {
   "cell_type": "code",
   "execution_count": 19,
   "id": "d778d901",
   "metadata": {},
   "outputs": [],
   "source": [
    "df[\"vaccines\"]=le.fit_transform(df[\"vaccines\"])"
   ]
  },
  {
   "cell_type": "code",
   "execution_count": 20,
   "id": "d651961a",
   "metadata": {
    "scrolled": true
   },
   "outputs": [
    {
     "data": {
      "text/html": [
       "<div>\n",
       "<style scoped>\n",
       "    .dataframe tbody tr th:only-of-type {\n",
       "        vertical-align: middle;\n",
       "    }\n",
       "\n",
       "    .dataframe tbody tr th {\n",
       "        vertical-align: top;\n",
       "    }\n",
       "\n",
       "    .dataframe thead th {\n",
       "        text-align: right;\n",
       "    }\n",
       "</style>\n",
       "<table border=\"1\" class=\"dataframe\">\n",
       "  <thead>\n",
       "    <tr style=\"text-align: right;\">\n",
       "      <th></th>\n",
       "      <th>country</th>\n",
       "      <th>iso_code</th>\n",
       "      <th>date</th>\n",
       "      <th>total_vaccinations</th>\n",
       "      <th>people_vaccinated</th>\n",
       "      <th>people_fully_vaccinated</th>\n",
       "      <th>daily_vaccinations_raw</th>\n",
       "      <th>daily_vaccinations</th>\n",
       "      <th>total_vaccinations_per_hundred</th>\n",
       "      <th>people_vaccinated_per_hundred</th>\n",
       "      <th>people_fully_vaccinated_per_hundred</th>\n",
       "      <th>daily_vaccinations_per_million</th>\n",
       "      <th>vaccines</th>\n",
       "      <th>source_name</th>\n",
       "      <th>source_website</th>\n",
       "    </tr>\n",
       "  </thead>\n",
       "  <tbody>\n",
       "    <tr>\n",
       "      <th>0</th>\n",
       "      <td>0</td>\n",
       "      <td>1</td>\n",
       "      <td>82</td>\n",
       "      <td>0.000000e+00</td>\n",
       "      <td>0.000000e+00</td>\n",
       "      <td>1.413830e+07</td>\n",
       "      <td>270599.578248</td>\n",
       "      <td>131305.486075</td>\n",
       "      <td>0.000000</td>\n",
       "      <td>0.000000</td>\n",
       "      <td>35.523243</td>\n",
       "      <td>3257.049157</td>\n",
       "      <td>36</td>\n",
       "      <td>80</td>\n",
       "      <td>21</td>\n",
       "    </tr>\n",
       "    <tr>\n",
       "      <th>1</th>\n",
       "      <td>0</td>\n",
       "      <td>1</td>\n",
       "      <td>83</td>\n",
       "      <td>4.592964e+07</td>\n",
       "      <td>1.770508e+07</td>\n",
       "      <td>1.413830e+07</td>\n",
       "      <td>270599.578248</td>\n",
       "      <td>1367.000000</td>\n",
       "      <td>80.188543</td>\n",
       "      <td>40.927317</td>\n",
       "      <td>35.523243</td>\n",
       "      <td>34.000000</td>\n",
       "      <td>36</td>\n",
       "      <td>80</td>\n",
       "      <td>21</td>\n",
       "    </tr>\n",
       "    <tr>\n",
       "      <th>2</th>\n",
       "      <td>0</td>\n",
       "      <td>1</td>\n",
       "      <td>84</td>\n",
       "      <td>4.592964e+07</td>\n",
       "      <td>1.770508e+07</td>\n",
       "      <td>1.413830e+07</td>\n",
       "      <td>270599.578248</td>\n",
       "      <td>1367.000000</td>\n",
       "      <td>80.188543</td>\n",
       "      <td>40.927317</td>\n",
       "      <td>35.523243</td>\n",
       "      <td>34.000000</td>\n",
       "      <td>36</td>\n",
       "      <td>80</td>\n",
       "      <td>21</td>\n",
       "    </tr>\n",
       "    <tr>\n",
       "      <th>3</th>\n",
       "      <td>0</td>\n",
       "      <td>1</td>\n",
       "      <td>85</td>\n",
       "      <td>4.592964e+07</td>\n",
       "      <td>1.770508e+07</td>\n",
       "      <td>1.413830e+07</td>\n",
       "      <td>270599.578248</td>\n",
       "      <td>1367.000000</td>\n",
       "      <td>80.188543</td>\n",
       "      <td>40.927317</td>\n",
       "      <td>35.523243</td>\n",
       "      <td>34.000000</td>\n",
       "      <td>36</td>\n",
       "      <td>80</td>\n",
       "      <td>21</td>\n",
       "    </tr>\n",
       "    <tr>\n",
       "      <th>4</th>\n",
       "      <td>0</td>\n",
       "      <td>1</td>\n",
       "      <td>86</td>\n",
       "      <td>4.592964e+07</td>\n",
       "      <td>1.770508e+07</td>\n",
       "      <td>1.413830e+07</td>\n",
       "      <td>270599.578248</td>\n",
       "      <td>1367.000000</td>\n",
       "      <td>80.188543</td>\n",
       "      <td>40.927317</td>\n",
       "      <td>35.523243</td>\n",
       "      <td>34.000000</td>\n",
       "      <td>36</td>\n",
       "      <td>80</td>\n",
       "      <td>21</td>\n",
       "    </tr>\n",
       "    <tr>\n",
       "      <th>...</th>\n",
       "      <td>...</td>\n",
       "      <td>...</td>\n",
       "      <td>...</td>\n",
       "      <td>...</td>\n",
       "      <td>...</td>\n",
       "      <td>...</td>\n",
       "      <td>...</td>\n",
       "      <td>...</td>\n",
       "      <td>...</td>\n",
       "      <td>...</td>\n",
       "      <td>...</td>\n",
       "      <td>...</td>\n",
       "      <td>...</td>\n",
       "      <td>...</td>\n",
       "      <td>...</td>\n",
       "    </tr>\n",
       "    <tr>\n",
       "      <th>86507</th>\n",
       "      <td>222</td>\n",
       "      <td>222</td>\n",
       "      <td>478</td>\n",
       "      <td>8.691642e+06</td>\n",
       "      <td>4.814582e+06</td>\n",
       "      <td>3.473523e+06</td>\n",
       "      <td>139213.000000</td>\n",
       "      <td>69579.000000</td>\n",
       "      <td>57.590000</td>\n",
       "      <td>31.900000</td>\n",
       "      <td>23.020000</td>\n",
       "      <td>4610.000000</td>\n",
       "      <td>72</td>\n",
       "      <td>48</td>\n",
       "      <td>94</td>\n",
       "    </tr>\n",
       "    <tr>\n",
       "      <th>86508</th>\n",
       "      <td>222</td>\n",
       "      <td>222</td>\n",
       "      <td>479</td>\n",
       "      <td>8.791728e+06</td>\n",
       "      <td>4.886242e+06</td>\n",
       "      <td>3.487962e+06</td>\n",
       "      <td>100086.000000</td>\n",
       "      <td>83429.000000</td>\n",
       "      <td>58.250000</td>\n",
       "      <td>32.380000</td>\n",
       "      <td>23.110000</td>\n",
       "      <td>5528.000000</td>\n",
       "      <td>72</td>\n",
       "      <td>48</td>\n",
       "      <td>94</td>\n",
       "    </tr>\n",
       "    <tr>\n",
       "      <th>86509</th>\n",
       "      <td>222</td>\n",
       "      <td>222</td>\n",
       "      <td>480</td>\n",
       "      <td>8.845039e+06</td>\n",
       "      <td>4.918147e+06</td>\n",
       "      <td>3.493763e+06</td>\n",
       "      <td>53311.000000</td>\n",
       "      <td>90629.000000</td>\n",
       "      <td>58.610000</td>\n",
       "      <td>32.590000</td>\n",
       "      <td>23.150000</td>\n",
       "      <td>6005.000000</td>\n",
       "      <td>72</td>\n",
       "      <td>48</td>\n",
       "      <td>94</td>\n",
       "    </tr>\n",
       "    <tr>\n",
       "      <th>86510</th>\n",
       "      <td>222</td>\n",
       "      <td>222</td>\n",
       "      <td>481</td>\n",
       "      <td>8.934360e+06</td>\n",
       "      <td>4.975433e+06</td>\n",
       "      <td>3.501493e+06</td>\n",
       "      <td>89321.000000</td>\n",
       "      <td>100614.000000</td>\n",
       "      <td>59.200000</td>\n",
       "      <td>32.970000</td>\n",
       "      <td>23.200000</td>\n",
       "      <td>6667.000000</td>\n",
       "      <td>72</td>\n",
       "      <td>48</td>\n",
       "      <td>94</td>\n",
       "    </tr>\n",
       "    <tr>\n",
       "      <th>86511</th>\n",
       "      <td>222</td>\n",
       "      <td>222</td>\n",
       "      <td>482</td>\n",
       "      <td>9.039729e+06</td>\n",
       "      <td>5.053114e+06</td>\n",
       "      <td>3.510256e+06</td>\n",
       "      <td>105369.000000</td>\n",
       "      <td>103751.000000</td>\n",
       "      <td>59.900000</td>\n",
       "      <td>33.480000</td>\n",
       "      <td>23.260000</td>\n",
       "      <td>6874.000000</td>\n",
       "      <td>72</td>\n",
       "      <td>48</td>\n",
       "      <td>94</td>\n",
       "    </tr>\n",
       "  </tbody>\n",
       "</table>\n",
       "<p>86512 rows × 15 columns</p>\n",
       "</div>"
      ],
      "text/plain": [
       "       country  iso_code  date  total_vaccinations  people_vaccinated  \\\n",
       "0            0         1    82        0.000000e+00       0.000000e+00   \n",
       "1            0         1    83        4.592964e+07       1.770508e+07   \n",
       "2            0         1    84        4.592964e+07       1.770508e+07   \n",
       "3            0         1    85        4.592964e+07       1.770508e+07   \n",
       "4            0         1    86        4.592964e+07       1.770508e+07   \n",
       "...        ...       ...   ...                 ...                ...   \n",
       "86507      222       222   478        8.691642e+06       4.814582e+06   \n",
       "86508      222       222   479        8.791728e+06       4.886242e+06   \n",
       "86509      222       222   480        8.845039e+06       4.918147e+06   \n",
       "86510      222       222   481        8.934360e+06       4.975433e+06   \n",
       "86511      222       222   482        9.039729e+06       5.053114e+06   \n",
       "\n",
       "       people_fully_vaccinated  daily_vaccinations_raw  daily_vaccinations  \\\n",
       "0                 1.413830e+07           270599.578248       131305.486075   \n",
       "1                 1.413830e+07           270599.578248         1367.000000   \n",
       "2                 1.413830e+07           270599.578248         1367.000000   \n",
       "3                 1.413830e+07           270599.578248         1367.000000   \n",
       "4                 1.413830e+07           270599.578248         1367.000000   \n",
       "...                        ...                     ...                 ...   \n",
       "86507             3.473523e+06           139213.000000        69579.000000   \n",
       "86508             3.487962e+06           100086.000000        83429.000000   \n",
       "86509             3.493763e+06            53311.000000        90629.000000   \n",
       "86510             3.501493e+06            89321.000000       100614.000000   \n",
       "86511             3.510256e+06           105369.000000       103751.000000   \n",
       "\n",
       "       total_vaccinations_per_hundred  people_vaccinated_per_hundred  \\\n",
       "0                            0.000000                       0.000000   \n",
       "1                           80.188543                      40.927317   \n",
       "2                           80.188543                      40.927317   \n",
       "3                           80.188543                      40.927317   \n",
       "4                           80.188543                      40.927317   \n",
       "...                               ...                            ...   \n",
       "86507                       57.590000                      31.900000   \n",
       "86508                       58.250000                      32.380000   \n",
       "86509                       58.610000                      32.590000   \n",
       "86510                       59.200000                      32.970000   \n",
       "86511                       59.900000                      33.480000   \n",
       "\n",
       "       people_fully_vaccinated_per_hundred  daily_vaccinations_per_million  \\\n",
       "0                                35.523243                     3257.049157   \n",
       "1                                35.523243                       34.000000   \n",
       "2                                35.523243                       34.000000   \n",
       "3                                35.523243                       34.000000   \n",
       "4                                35.523243                       34.000000   \n",
       "...                                    ...                             ...   \n",
       "86507                            23.020000                     4610.000000   \n",
       "86508                            23.110000                     5528.000000   \n",
       "86509                            23.150000                     6005.000000   \n",
       "86510                            23.200000                     6667.000000   \n",
       "86511                            23.260000                     6874.000000   \n",
       "\n",
       "       vaccines  source_name  source_website  \n",
       "0            36           80              21  \n",
       "1            36           80              21  \n",
       "2            36           80              21  \n",
       "3            36           80              21  \n",
       "4            36           80              21  \n",
       "...         ...          ...             ...  \n",
       "86507        72           48              94  \n",
       "86508        72           48              94  \n",
       "86509        72           48              94  \n",
       "86510        72           48              94  \n",
       "86511        72           48              94  \n",
       "\n",
       "[86512 rows x 15 columns]"
      ]
     },
     "execution_count": 20,
     "metadata": {},
     "output_type": "execute_result"
    }
   ],
   "source": [
    "df"
   ]
  },
  {
   "cell_type": "code",
   "execution_count": 21,
   "id": "eed90a9d",
   "metadata": {},
   "outputs": [
    {
     "data": {
      "text/plain": [
       "(86512, 15)"
      ]
     },
     "execution_count": 21,
     "metadata": {},
     "output_type": "execute_result"
    }
   ],
   "source": [
    "df.shape"
   ]
  },
  {
   "cell_type": "markdown",
   "id": "c8b3f621",
   "metadata": {},
   "source": [
    "# Split Data"
   ]
  },
  {
   "cell_type": "code",
   "execution_count": 22,
   "id": "1848fed1",
   "metadata": {},
   "outputs": [
    {
     "name": "stdout",
     "output_type": "stream",
     "text": [
      "shape of X = (86512, 14)\n",
      "shape of y = (86512,)\n"
     ]
    }
   ],
   "source": [
    "X=df.drop('total_vaccinations',axis=1)#X define independant variable so we \n",
    "y=df['total_vaccinations']#y define dependant variable\n",
    "\n",
    "print('shape of X =',X.shape)\n",
    "print('shape of y =',y.shape)"
   ]
  },
  {
   "cell_type": "code",
   "execution_count": 23,
   "id": "cd0c9986",
   "metadata": {},
   "outputs": [
    {
     "name": "stdout",
     "output_type": "stream",
     "text": [
      "shape of X_train =  (17302, 14)\n",
      "shape of y_train =  (17302,)\n",
      "shape of X_test =  (69210, 14)\n",
      "shape of y_test =  (69210,)\n"
     ]
    }
   ],
   "source": [
    "\n",
    "from sklearn.model_selection import train_test_split\n",
    "x_train , x_test,y_train,y_test=train_test_split(X,y,test_size=0.8,random_state=51)\n",
    "#0.8 means 80% of data\n",
    "print('shape of X_train = ',x_train.shape)\n",
    "print('shape of y_train = ',y_train.shape)\n",
    "print('shape of X_test = ',x_test.shape)\n",
    "print('shape of y_test = ',y_test.shape)"
   ]
  },
  {
   "cell_type": "markdown",
   "id": "fc38661c",
   "metadata": {},
   "source": [
    "# Feature Scalling"
   ]
  },
  {
   "cell_type": "code",
   "execution_count": 24,
   "id": "bdf80985",
   "metadata": {},
   "outputs": [],
   "source": [
    "\n",
    "from sklearn.preprocessing import StandardScaler\n",
    "sc=StandardScaler()\n",
    "sc.fit(x_train)#we take independant variables  we  apply standardscaler\n",
    "x_train=sc.transform(x_train)\n",
    "x_test=sc.transform(x_test)"
   ]
  },
  {
   "cell_type": "markdown",
   "id": "85ee996c",
   "metadata": {},
   "source": [
    "# Linear Regression"
   ]
  },
  {
   "cell_type": "code",
   "execution_count": 25,
   "id": "3f4a9078",
   "metadata": {},
   "outputs": [
    {
     "data": {
      "text/html": [
       "<style>#sk-container-id-1 {color: black;background-color: white;}#sk-container-id-1 pre{padding: 0;}#sk-container-id-1 div.sk-toggleable {background-color: white;}#sk-container-id-1 label.sk-toggleable__label {cursor: pointer;display: block;width: 100%;margin-bottom: 0;padding: 0.3em;box-sizing: border-box;text-align: center;}#sk-container-id-1 label.sk-toggleable__label-arrow:before {content: \"▸\";float: left;margin-right: 0.25em;color: #696969;}#sk-container-id-1 label.sk-toggleable__label-arrow:hover:before {color: black;}#sk-container-id-1 div.sk-estimator:hover label.sk-toggleable__label-arrow:before {color: black;}#sk-container-id-1 div.sk-toggleable__content {max-height: 0;max-width: 0;overflow: hidden;text-align: left;background-color: #f0f8ff;}#sk-container-id-1 div.sk-toggleable__content pre {margin: 0.2em;color: black;border-radius: 0.25em;background-color: #f0f8ff;}#sk-container-id-1 input.sk-toggleable__control:checked~div.sk-toggleable__content {max-height: 200px;max-width: 100%;overflow: auto;}#sk-container-id-1 input.sk-toggleable__control:checked~label.sk-toggleable__label-arrow:before {content: \"▾\";}#sk-container-id-1 div.sk-estimator input.sk-toggleable__control:checked~label.sk-toggleable__label {background-color: #d4ebff;}#sk-container-id-1 div.sk-label input.sk-toggleable__control:checked~label.sk-toggleable__label {background-color: #d4ebff;}#sk-container-id-1 input.sk-hidden--visually {border: 0;clip: rect(1px 1px 1px 1px);clip: rect(1px, 1px, 1px, 1px);height: 1px;margin: -1px;overflow: hidden;padding: 0;position: absolute;width: 1px;}#sk-container-id-1 div.sk-estimator {font-family: monospace;background-color: #f0f8ff;border: 1px dotted black;border-radius: 0.25em;box-sizing: border-box;margin-bottom: 0.5em;}#sk-container-id-1 div.sk-estimator:hover {background-color: #d4ebff;}#sk-container-id-1 div.sk-parallel-item::after {content: \"\";width: 100%;border-bottom: 1px solid gray;flex-grow: 1;}#sk-container-id-1 div.sk-label:hover label.sk-toggleable__label {background-color: #d4ebff;}#sk-container-id-1 div.sk-serial::before {content: \"\";position: absolute;border-left: 1px solid gray;box-sizing: border-box;top: 0;bottom: 0;left: 50%;z-index: 0;}#sk-container-id-1 div.sk-serial {display: flex;flex-direction: column;align-items: center;background-color: white;padding-right: 0.2em;padding-left: 0.2em;position: relative;}#sk-container-id-1 div.sk-item {position: relative;z-index: 1;}#sk-container-id-1 div.sk-parallel {display: flex;align-items: stretch;justify-content: center;background-color: white;position: relative;}#sk-container-id-1 div.sk-item::before, #sk-container-id-1 div.sk-parallel-item::before {content: \"\";position: absolute;border-left: 1px solid gray;box-sizing: border-box;top: 0;bottom: 0;left: 50%;z-index: -1;}#sk-container-id-1 div.sk-parallel-item {display: flex;flex-direction: column;z-index: 1;position: relative;background-color: white;}#sk-container-id-1 div.sk-parallel-item:first-child::after {align-self: flex-end;width: 50%;}#sk-container-id-1 div.sk-parallel-item:last-child::after {align-self: flex-start;width: 50%;}#sk-container-id-1 div.sk-parallel-item:only-child::after {width: 0;}#sk-container-id-1 div.sk-dashed-wrapped {border: 1px dashed gray;margin: 0 0.4em 0.5em 0.4em;box-sizing: border-box;padding-bottom: 0.4em;background-color: white;}#sk-container-id-1 div.sk-label label {font-family: monospace;font-weight: bold;display: inline-block;line-height: 1.2em;}#sk-container-id-1 div.sk-label-container {text-align: center;}#sk-container-id-1 div.sk-container {/* jupyter's `normalize.less` sets `[hidden] { display: none; }` but bootstrap.min.css set `[hidden] { display: none !important; }` so we also need the `!important` here to be able to override the default hidden behavior on the sphinx rendered scikit-learn.org. See: https://github.com/scikit-learn/scikit-learn/issues/21755 */display: inline-block !important;position: relative;}#sk-container-id-1 div.sk-text-repr-fallback {display: none;}</style><div id=\"sk-container-id-1\" class=\"sk-top-container\"><div class=\"sk-text-repr-fallback\"><pre>LinearRegression()</pre><b>In a Jupyter environment, please rerun this cell to show the HTML representation or trust the notebook. <br />On GitHub, the HTML representation is unable to render, please try loading this page with nbviewer.org.</b></div><div class=\"sk-container\" hidden><div class=\"sk-item\"><div class=\"sk-estimator sk-toggleable\"><input class=\"sk-toggleable__control sk-hidden--visually\" id=\"sk-estimator-id-1\" type=\"checkbox\" checked><label for=\"sk-estimator-id-1\" class=\"sk-toggleable__label sk-toggleable__label-arrow\">LinearRegression</label><div class=\"sk-toggleable__content\"><pre>LinearRegression()</pre></div></div></div></div></div>"
      ],
      "text/plain": [
       "LinearRegression()"
      ]
     },
     "execution_count": 25,
     "metadata": {},
     "output_type": "execute_result"
    }
   ],
   "source": [
    "from sklearn.linear_model import LinearRegression\n",
    "lr=LinearRegression()\n",
    "lr.fit(x_train,y_train)"
   ]
  },
  {
   "cell_type": "code",
   "execution_count": 26,
   "id": "b8752963",
   "metadata": {},
   "outputs": [],
   "source": [
    "model=LinearRegression()"
   ]
  },
  {
   "cell_type": "code",
   "execution_count": 27,
   "id": "ce1009be",
   "metadata": {},
   "outputs": [
    {
     "data": {
      "text/plain": [
       "array([-7.65053785e+06,  3.37639765e+06, -1.63326152e+06, -1.05780488e+07,\n",
       "        7.67026836e+07, -7.07481518e+06,  9.29332569e+07,  1.08809460e+08,\n",
       "       -5.87430533e+07, -4.03411929e+07, -7.03879938e+06,  1.91509818e+06,\n",
       "        6.79966493e+06, -3.03191504e+06])"
      ]
     },
     "execution_count": 27,
     "metadata": {},
     "output_type": "execute_result"
    }
   ],
   "source": [
    "lr.coef_"
   ]
  },
  {
   "cell_type": "code",
   "execution_count": 28,
   "id": "e23b2cc8",
   "metadata": {},
   "outputs": [
    {
     "data": {
      "text/plain": [
       "46953379.93051483"
      ]
     },
     "execution_count": 28,
     "metadata": {},
     "output_type": "execute_result"
    }
   ],
   "source": [
    "lr.intercept_"
   ]
  },
  {
   "cell_type": "code",
   "execution_count": 29,
   "id": "9aeb21b7",
   "metadata": {},
   "outputs": [
    {
     "data": {
      "text/plain": [
       "array([ 0.59906623,  0.69080011, -0.47841276, -0.32206295, -0.31870532,\n",
       "       -0.34866112, -0.16712847,  0.61426494,  1.04111158,  0.64042209,\n",
       "        0.35321773,  0.24593649, -0.47464552, -0.99228247])"
      ]
     },
     "execution_count": 29,
     "metadata": {},
     "output_type": "execute_result"
    }
   ],
   "source": [
    "x_test[0,:]"
   ]
  },
  {
   "cell_type": "code",
   "execution_count": 30,
   "id": "9542c2df",
   "metadata": {},
   "outputs": [
    {
     "data": {
      "text/plain": [
       "array([-11009623.93594756])"
      ]
     },
     "execution_count": 30,
     "metadata": {},
     "output_type": "execute_result"
    }
   ],
   "source": [
    "lr.predict([x_test[0,:]])"
   ]
  },
  {
   "cell_type": "code",
   "execution_count": 31,
   "id": "7b4e8052",
   "metadata": {},
   "outputs": [
    {
     "data": {
      "text/plain": [
       "array([-11009623.93594756,  53875797.98285553,  38057061.02523609, ...,\n",
       "        60523222.49414578,  37803183.25283732,  -5064114.74529385])"
      ]
     },
     "execution_count": 31,
     "metadata": {},
     "output_type": "execute_result"
    }
   ],
   "source": [
    "lr.predict(x_test)"
   ]
  },
  {
   "cell_type": "code",
   "execution_count": 32,
   "id": "7331f1bf",
   "metadata": {},
   "outputs": [
    {
     "data": {
      "text/plain": [
       "58250    2.079758e+06\n",
       "8910     1.065200e+05\n",
       "69751    4.592964e+07\n",
       "73397    5.644895e+06\n",
       "80799    4.592964e+07\n",
       "             ...     \n",
       "58131    6.411210e+05\n",
       "37891    1.857250e+05\n",
       "57081    4.592964e+07\n",
       "60166    4.592964e+07\n",
       "69100    1.315460e+05\n",
       "Name: total_vaccinations, Length: 69210, dtype: float64"
      ]
     },
     "execution_count": 32,
     "metadata": {},
     "output_type": "execute_result"
    }
   ],
   "source": [
    "y_test"
   ]
  },
  {
   "cell_type": "code",
   "execution_count": 33,
   "id": "a51b80af",
   "metadata": {},
   "outputs": [
    {
     "data": {
      "text/plain": [
       "0.6219226279846872"
      ]
     },
     "execution_count": 33,
     "metadata": {},
     "output_type": "execute_result"
    }
   ],
   "source": [
    "lr.score(x_test,y_test)"
   ]
  },
  {
   "cell_type": "code",
   "execution_count": 34,
   "id": "3e10aec5",
   "metadata": {},
   "outputs": [
    {
     "data": {
      "text/plain": [
       "array([-11009623.93594756,  53875797.98285553,  38057061.02523609, ...,\n",
       "        60523222.49414578,  37803183.25283732,  -5064114.74529385])"
      ]
     },
     "execution_count": 34,
     "metadata": {},
     "output_type": "execute_result"
    }
   ],
   "source": [
    "y_pred=lr.predict(x_test)\n",
    "y_pred"
   ]
  },
  {
   "cell_type": "code",
   "execution_count": 44,
   "id": "8aa56ac2",
   "metadata": {},
   "outputs": [
    {
     "data": {
      "text/plain": [
       "58250    2.079758e+06\n",
       "8910     1.065200e+05\n",
       "69751    4.592964e+07\n",
       "73397    5.644895e+06\n",
       "80799    4.592964e+07\n",
       "             ...     \n",
       "58131    6.411210e+05\n",
       "37891    1.857250e+05\n",
       "57081    4.592964e+07\n",
       "60166    4.592964e+07\n",
       "69100    1.315460e+05\n",
       "Name: total_vaccinations, Length: 69210, dtype: float64"
      ]
     },
     "execution_count": 44,
     "metadata": {},
     "output_type": "execute_result"
    }
   ],
   "source": [
    "y_test"
   ]
  },
  {
   "cell_type": "markdown",
   "id": "7a691c21",
   "metadata": {},
   "source": [
    "# MSE RMSE"
   ]
  },
  {
   "cell_type": "code",
   "execution_count": 45,
   "id": "ed98cf9e",
   "metadata": {},
   "outputs": [],
   "source": [
    "from sklearn.metrics import mean_squared_error"
   ]
  },
  {
   "cell_type": "code",
   "execution_count": 46,
   "id": "82fe3c95",
   "metadata": {},
   "outputs": [
    {
     "name": "stdout",
     "output_type": "stream",
     "text": [
      "mse 9391321967850742.0\n",
      "rsme 96908833.28082503\n"
     ]
    }
   ],
   "source": [
    "mse=mean_squared_error(y_test,y_pred)\n",
    "rsme=np.sqrt(mse)\n",
    "print (\"mse\",mse)\n",
    "print(\"rsme\",rsme)"
   ]
  },
  {
   "cell_type": "code",
   "execution_count": 47,
   "id": "4a073134",
   "metadata": {},
   "outputs": [],
   "source": [
    "from sklearn.linear_model import Ridge,Lasso"
   ]
  },
  {
   "cell_type": "code",
   "execution_count": 48,
   "id": "67fcaef6",
   "metadata": {},
   "outputs": [
    {
     "data": {
      "text/plain": [
       "0.6219388499999817"
      ]
     },
     "execution_count": 48,
     "metadata": {},
     "output_type": "execute_result"
    }
   ],
   "source": [
    "rd=Ridge()\n",
    "rd.fit(x_train,y_train)\n",
    "rd.score(x_test,y_test)"
   ]
  },
  {
   "cell_type": "code",
   "execution_count": 49,
   "id": "b4ce38de",
   "metadata": {},
   "outputs": [
    {
     "data": {
      "text/plain": [
       "0.6219226330398413"
      ]
     },
     "execution_count": 49,
     "metadata": {},
     "output_type": "execute_result"
    }
   ],
   "source": [
    "ls=Lasso()\n",
    "ls.fit(x_train,y_train)\n",
    "ls.score(x_test,y_test)"
   ]
  },
  {
   "cell_type": "code",
   "execution_count": 50,
   "id": "f37326f5",
   "metadata": {},
   "outputs": [
    {
     "data": {
      "text/plain": [
       "0.6219388499999817"
      ]
     },
     "execution_count": 50,
     "metadata": {},
     "output_type": "execute_result"
    }
   ],
   "source": [
    "rd2=Ridge(alpha=2)\n",
    "rd2.fit(x_train,y_train)\n",
    "rd.score(x_test,y_test)"
   ]
  },
  {
   "cell_type": "code",
   "execution_count": 51,
   "id": "4096a44a",
   "metadata": {},
   "outputs": [
    {
     "data": {
      "text/plain": [
       "0.6219226532451332"
      ]
     },
     "execution_count": 51,
     "metadata": {},
     "output_type": "execute_result"
    }
   ],
   "source": [
    "ls2=Lasso(alpha=5)\n",
    "ls2.fit(x_train,y_train)\n",
    "ls2.score(x_test,y_test)"
   ]
  },
  {
   "cell_type": "code",
   "execution_count": 52,
   "id": "b445ff21",
   "metadata": {},
   "outputs": [
    {
     "data": {
      "text/plain": [
       "0.6219226431499266"
      ]
     },
     "execution_count": 52,
     "metadata": {},
     "output_type": "execute_result"
    }
   ],
   "source": [
    "ls3=Lasso(alpha=3)\n",
    "ls3.fit(x_train,y_train)\n",
    "ls3.score(x_test,y_test)"
   ]
  },
  {
   "cell_type": "markdown",
   "id": "b2bdd2f2",
   "metadata": {},
   "source": [
    "# Random Forest regression"
   ]
  },
  {
   "cell_type": "code",
   "execution_count": 53,
   "id": "427e52cd",
   "metadata": {},
   "outputs": [],
   "source": [
    "from sklearn.ensemble import RandomForestRegressor"
   ]
  },
  {
   "cell_type": "code",
   "execution_count": 54,
   "id": "5d6848a3",
   "metadata": {},
   "outputs": [],
   "source": [
    "model=RandomForestRegressor"
   ]
  },
  {
   "cell_type": "code",
   "execution_count": 55,
   "id": "7ffe9fe0",
   "metadata": {},
   "outputs": [
    {
     "data": {
      "text/html": [
       "<style>#sk-container-id-2 {color: black;background-color: white;}#sk-container-id-2 pre{padding: 0;}#sk-container-id-2 div.sk-toggleable {background-color: white;}#sk-container-id-2 label.sk-toggleable__label {cursor: pointer;display: block;width: 100%;margin-bottom: 0;padding: 0.3em;box-sizing: border-box;text-align: center;}#sk-container-id-2 label.sk-toggleable__label-arrow:before {content: \"▸\";float: left;margin-right: 0.25em;color: #696969;}#sk-container-id-2 label.sk-toggleable__label-arrow:hover:before {color: black;}#sk-container-id-2 div.sk-estimator:hover label.sk-toggleable__label-arrow:before {color: black;}#sk-container-id-2 div.sk-toggleable__content {max-height: 0;max-width: 0;overflow: hidden;text-align: left;background-color: #f0f8ff;}#sk-container-id-2 div.sk-toggleable__content pre {margin: 0.2em;color: black;border-radius: 0.25em;background-color: #f0f8ff;}#sk-container-id-2 input.sk-toggleable__control:checked~div.sk-toggleable__content {max-height: 200px;max-width: 100%;overflow: auto;}#sk-container-id-2 input.sk-toggleable__control:checked~label.sk-toggleable__label-arrow:before {content: \"▾\";}#sk-container-id-2 div.sk-estimator input.sk-toggleable__control:checked~label.sk-toggleable__label {background-color: #d4ebff;}#sk-container-id-2 div.sk-label input.sk-toggleable__control:checked~label.sk-toggleable__label {background-color: #d4ebff;}#sk-container-id-2 input.sk-hidden--visually {border: 0;clip: rect(1px 1px 1px 1px);clip: rect(1px, 1px, 1px, 1px);height: 1px;margin: -1px;overflow: hidden;padding: 0;position: absolute;width: 1px;}#sk-container-id-2 div.sk-estimator {font-family: monospace;background-color: #f0f8ff;border: 1px dotted black;border-radius: 0.25em;box-sizing: border-box;margin-bottom: 0.5em;}#sk-container-id-2 div.sk-estimator:hover {background-color: #d4ebff;}#sk-container-id-2 div.sk-parallel-item::after {content: \"\";width: 100%;border-bottom: 1px solid gray;flex-grow: 1;}#sk-container-id-2 div.sk-label:hover label.sk-toggleable__label {background-color: #d4ebff;}#sk-container-id-2 div.sk-serial::before {content: \"\";position: absolute;border-left: 1px solid gray;box-sizing: border-box;top: 0;bottom: 0;left: 50%;z-index: 0;}#sk-container-id-2 div.sk-serial {display: flex;flex-direction: column;align-items: center;background-color: white;padding-right: 0.2em;padding-left: 0.2em;position: relative;}#sk-container-id-2 div.sk-item {position: relative;z-index: 1;}#sk-container-id-2 div.sk-parallel {display: flex;align-items: stretch;justify-content: center;background-color: white;position: relative;}#sk-container-id-2 div.sk-item::before, #sk-container-id-2 div.sk-parallel-item::before {content: \"\";position: absolute;border-left: 1px solid gray;box-sizing: border-box;top: 0;bottom: 0;left: 50%;z-index: -1;}#sk-container-id-2 div.sk-parallel-item {display: flex;flex-direction: column;z-index: 1;position: relative;background-color: white;}#sk-container-id-2 div.sk-parallel-item:first-child::after {align-self: flex-end;width: 50%;}#sk-container-id-2 div.sk-parallel-item:last-child::after {align-self: flex-start;width: 50%;}#sk-container-id-2 div.sk-parallel-item:only-child::after {width: 0;}#sk-container-id-2 div.sk-dashed-wrapped {border: 1px dashed gray;margin: 0 0.4em 0.5em 0.4em;box-sizing: border-box;padding-bottom: 0.4em;background-color: white;}#sk-container-id-2 div.sk-label label {font-family: monospace;font-weight: bold;display: inline-block;line-height: 1.2em;}#sk-container-id-2 div.sk-label-container {text-align: center;}#sk-container-id-2 div.sk-container {/* jupyter's `normalize.less` sets `[hidden] { display: none; }` but bootstrap.min.css set `[hidden] { display: none !important; }` so we also need the `!important` here to be able to override the default hidden behavior on the sphinx rendered scikit-learn.org. See: https://github.com/scikit-learn/scikit-learn/issues/21755 */display: inline-block !important;position: relative;}#sk-container-id-2 div.sk-text-repr-fallback {display: none;}</style><div id=\"sk-container-id-2\" class=\"sk-top-container\"><div class=\"sk-text-repr-fallback\"><pre>RandomForestRegressor()</pre><b>In a Jupyter environment, please rerun this cell to show the HTML representation or trust the notebook. <br />On GitHub, the HTML representation is unable to render, please try loading this page with nbviewer.org.</b></div><div class=\"sk-container\" hidden><div class=\"sk-item\"><div class=\"sk-estimator sk-toggleable\"><input class=\"sk-toggleable__control sk-hidden--visually\" id=\"sk-estimator-id-2\" type=\"checkbox\" checked><label for=\"sk-estimator-id-2\" class=\"sk-toggleable__label sk-toggleable__label-arrow\">RandomForestRegressor</label><div class=\"sk-toggleable__content\"><pre>RandomForestRegressor()</pre></div></div></div></div></div>"
      ],
      "text/plain": [
       "RandomForestRegressor()"
      ]
     },
     "execution_count": 55,
     "metadata": {},
     "output_type": "execute_result"
    }
   ],
   "source": [
    "regressor=RandomForestRegressor(n_estimators=100,criterion='squared_error')\n",
    "regressor.fit(x_train,y_train)"
   ]
  },
  {
   "cell_type": "code",
   "execution_count": 56,
   "id": "d7f49271",
   "metadata": {},
   "outputs": [
    {
     "data": {
      "text/plain": [
       "0.9604539956310378"
      ]
     },
     "execution_count": 56,
     "metadata": {},
     "output_type": "execute_result"
    }
   ],
   "source": [
    "regressor.score(x_test,y_test)"
   ]
  },
  {
   "cell_type": "code",
   "execution_count": null,
   "id": "40af5584",
   "metadata": {},
   "outputs": [],
   "source": []
  },
  {
   "cell_type": "markdown",
   "id": "73cc3721",
   "metadata": {},
   "source": [
    "# K Fold Cross Validation"
   ]
  },
  {
   "cell_type": "code",
   "execution_count": 57,
   "id": "645b3a88",
   "metadata": {},
   "outputs": [
    {
     "name": "stdout",
     "output_type": "stream",
     "text": [
      "Cross-validation scores: [0.97468471 0.97001336 0.92636759 0.98359534 0.96504558]\n",
      "Mean Accuracy: 0.963941314068413\n"
     ]
    }
   ],
   "source": [
    "from sklearn.model_selection import cross_val_score, KFold\n",
    "\n",
    "# Create a k-fold cross-validator\n",
    "kf = KFold(n_splits=5, shuffle=True, random_state=42)\n",
    "\n",
    "# Perform k-fold cross-validation for Random Forest Regression\n",
    "scores = cross_val_score(regressor ,x_train, y_train, cv=kf)\n",
    "\n",
    "print(\"Cross-validation scores:\", scores)\n",
    "RandomForestRegressor_kfold_mean_score = np.mean(scores)\n",
    "print(\"Mean Accuracy:\",RandomForestRegressor_kfold_mean_score )"
   ]
  },
  {
   "cell_type": "code",
   "execution_count": null,
   "id": "229578e5",
   "metadata": {},
   "outputs": [],
   "source": []
  },
  {
   "cell_type": "code",
   "execution_count": null,
   "id": "f1874e87",
   "metadata": {},
   "outputs": [],
   "source": []
  }
 ],
 "metadata": {
  "kernelspec": {
   "display_name": "Python 3 (ipykernel)",
   "language": "python",
   "name": "python3"
  },
  "language_info": {
   "codemirror_mode": {
    "name": "ipython",
    "version": 3
   },
   "file_extension": ".py",
   "mimetype": "text/x-python",
   "name": "python",
   "nbconvert_exporter": "python",
   "pygments_lexer": "ipython3",
   "version": "3.10.9"
  }
 },
 "nbformat": 4,
 "nbformat_minor": 5
}
